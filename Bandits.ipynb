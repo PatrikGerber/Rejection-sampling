{
 "cells": [
  {
   "cell_type": "code",
   "execution_count": 7,
   "metadata": {
    "id": "dgtMCJDQyWlN"
   },
   "outputs": [],
   "source": [
    "from sortedcontainers import SortedList\n",
    "from math import log, exp, sqrt\n",
    "from random import random, randrange\n",
    "import numpy as np\n",
    "import matplotlib.pyplot as plt\n",
    "import matplotlib\n",
    "from time import time"
   ]
  },
  {
   "cell_type": "code",
   "execution_count": 8,
   "metadata": {
    "id": "XZ81TxKsye-C"
   },
   "outputs": [],
   "source": [
    "# NOTE ON BIT MANIPULATION: 1 << i = 2^i\n",
    "\n",
    "# DESCRIPTION: Builds the rejection sampling envelope for the distribution proportional to exp(-η*L)\n",
    "# INPUT: \n",
    "#     sl = SortedList datastructure, storing the current loss estimates (L[arm], arm)\n",
    "#     logK = log_2(number of arms), assuming that the number of arms is a power of two\n",
    "#     η = stepsize\n",
    "# OUTPUT: envelope q of length logK, where intuitively q[i] = \\tilde{p}[2^i - 1]\n",
    "def build_envelope(sl, logK, η):\n",
    "    return [exp(-η*sl[(1 << i)-1][0]) for i in range(logK)]\n",
    "\n",
    "# returns an arm using rejection sampling\n",
    "# example to keep in mind:\n",
    "# \\tilde{p} = (8, 7, 6, 5, 4, 3, 2, 1)\n",
    "# \\tilde{q} = (8, 8, 7, 7, 5, 5, 5, 5)\n",
    "# bucket    = (0____ 1____ 2_________)\n",
    "# q         = (8,    7,    5) \n",
    "\n",
    "\n",
    "# DESCRIPTION: Samples from exp(-η*L) using the proposal q. Returns (L[arm], arm) pair\n",
    "# INPUT: \n",
    "#     q = rejection sampling envelope built by build_envelope()\n",
    "#     sl = SortedList datastructure, storing the current loss estimates (L[arm], arm)\n",
    "#     η = stepsize\n",
    "def sample(q, sl, η):\n",
    "    logK = len(q)\n",
    "    \n",
    "    # Compute normalizing constant of q\n",
    "    Z = 2.0*q[0]\n",
    "    for i in range(1, logK):\n",
    "        Z += q[i]*(1 << i)\n",
    "        \n",
    "    # Rejection while loop\n",
    "    counter = 0\n",
    "    while True:\n",
    "        counter += 1\n",
    "        # First we draw a random bucket\n",
    "        u = random()\n",
    "        bucket = -1\n",
    "        cdf = 2*q[0]\n",
    "        if u < cdf/Z:\n",
    "            bucket = 0\n",
    "        if bucket < 0:\n",
    "            for i in range(1, logK):\n",
    "                cdf += q[i]*(1 << i)\n",
    "                if u < cdf/Z:\n",
    "                    bucket = i\n",
    "                    break\n",
    "        if bucket < 0:\n",
    "            print(\"Error: bucket not assigned\")\n",
    "            return \n",
    "\n",
    "        # We draw the arm uniformly within the bucket. Draw = k means we drew the k-th largest arm\n",
    "        if bucket == 0:\n",
    "            draw = randrange(2)\n",
    "        else:\n",
    "            draw = (1 << bucket) + randrange(1 << bucket)\n",
    "            \n",
    "        # Rejection step\n",
    "        if random() < exp(-η*sl[draw][0])/q[bucket]:\n",
    "            return sl[draw]\n",
    "        \n",
    "        \n",
    "# DESCRIPTION: Returns (x,q(x)) where x is a sample from q and q(x) is the (normalized) density of point x\n",
    "# INPUT: \n",
    "#     q = upper envelope constructed by build_envelope()\n",
    "def sample_envelope(q):\n",
    "    logK = len(q)\n",
    "    \n",
    "    # Compute normalizing constant of q\n",
    "    Z = 2.0*q[0]\n",
    "    for i in range(1, logK):\n",
    "        Z += q[i]*(1 << i)\n",
    "        \n",
    "    # First we draw a random bucket\n",
    "    u = random()\n",
    "    bucket = -1\n",
    "    cdf = 2*q[0]\n",
    "    if u < cdf/Z:\n",
    "        bucket = 0\n",
    "    if bucket < 0:\n",
    "        for i in range(1, logK):\n",
    "            cdf += q[i]*(1 << i)\n",
    "            if u < cdf/Z:\n",
    "                bucket = i\n",
    "                break\n",
    "    if bucket < 0:\n",
    "        print(\"Error: bucket not assigned\")\n",
    "        return \n",
    "\n",
    "    # We draw the arm uniformly within the bucket. Draw = k means we drew the k-th largest arm\n",
    "    if bucket == 0:\n",
    "        draw = randrange(2)\n",
    "    else:\n",
    "        draw = (1 << bucket) + randrange(1 << bucket)\n",
    "    return draw, q[bucket]/Z"
   ]
  },
  {
   "cell_type": "code",
   "execution_count": 14,
   "metadata": {
    "id": "WsHltC063YAy"
   },
   "outputs": [],
   "source": [
    "# DESCRIPTION: Performs one step of the modified EXP3 algorithm and returns loss incurred\n",
    "# INPUT: \n",
    "#     sl = SortedList datastructure, storing the current loss estimates (L[arm], arm)\n",
    "#     η = stepsize\n",
    "#     losstype = type of loss to be used\n",
    "def mod_EXP3(sl, η, losstype):\n",
    "    \n",
    "    # BUILDING ENVELOPE\n",
    "    q = build_envelope(sl, logK, η)\n",
    "    \n",
    "    # SAMPLING ARM\n",
    "    L, arm = sample(q, sl, η)\n",
    "    \n",
    "    # OBSERVING LOSS\n",
    "    loss = losstype.observe_loss(arm)\n",
    "    \n",
    "    # J is not the true index, but indexed according to the sorted order\n",
    "    J, q_prob = sample_envelope(q)\n",
    "    dL = loss*exp(-η*sl[J][0])/(exp(-η*L)*q_prob)\n",
    "    \n",
    "    # UPDATING SORTED ARRAY\n",
    "    sl.remove((L, arm))\n",
    "    sl.add((L+dL, arm))\n",
    "    return loss\n",
    "\n",
    "# DESCRIPTION: Performs one step of EXP3 and returns (l,s) where l is the loss incurred and s = sum(L)\n",
    "# INPUT:\n",
    "#     L = current loss vector\n",
    "#     p = normalized probability vector proportional to exp(-η*L)\n",
    "#     s = normalizing constant; equal to sum of the vector exp(-η*L)\n",
    "#     η = step size\n",
    "#     logK = log_2(number of arms)\n",
    "#     losstype = type of loss to be used\n",
    "def EXP3(L, p, s, η, logK, losstype):\n",
    "    # Sampling the arm\n",
    "    arm = np.random.choice(range(1 << logK), 1, p = p)[0]\n",
    "    \n",
    "    # Observing the loss\n",
    "    loss = losstype.observe_loss(arm)\n",
    "    \n",
    "    # Updating the normalizing constant and loss vector\n",
    "    s -= exp(-η*L[arm])\n",
    "    L[arm] += loss/p[arm]\n",
    "    s += exp(-η*L[arm])\n",
    "    \n",
    "    # Updating the normalized probability vector\n",
    "    for i in range(1 << logK):\n",
    "        p[i] = exp(-η*L[i])/s\n",
    "    return loss, s"
   ]
  },
  {
   "cell_type": "code",
   "execution_count": 11,
   "metadata": {},
   "outputs": [],
   "source": [
    "# Below are the definitions of the three types of losses used. \n",
    "\n",
    "class cliff:\n",
    "    def __init__(self, logK, frac):\n",
    "        self.logK = logK\n",
    "        self.frac = frac\n",
    "        \n",
    "    def observe_loss(self, arm):\n",
    "        return 0 if arm < (1 << self.logK)*self.frac else 1\n",
    "        \n",
    "class changingCliff:\n",
    "    def __init__(self, logK, mult, T):\n",
    "        self.logK = logK\n",
    "        self.mult = mult\n",
    "        self.T = T\n",
    "        self.t = None\n",
    "        \n",
    "    def observe_loss(self, arm):\n",
    "        bucket = int(self.t*self.mult/float(self.T))\n",
    "        if bucket*(1 << self.logK)/float(self.mult) <= arm <= (bucket + 1)*(1 << self.logK)/float(self.mult):\n",
    "            return 0\n",
    "        return 1\n",
    "\n",
    "class stochastic:\n",
    "    def __init__(self, logK):\n",
    "        self.logK = logK\n",
    "        \n",
    "    def observe_loss(self, arm):\n",
    "        return min(1,max(0,arm/float(1<<self.logK) - 0.3*random()))"
   ]
  },
  {
   "cell_type": "markdown",
   "metadata": {
    "id": "AkHO4Df-39tL"
   },
   "source": [
    "# Comparing iteration speed"
   ]
  },
  {
   "cell_type": "code",
   "execution_count": 22,
   "metadata": {
    "id": "N82IYyD14DID"
   },
   "outputs": [],
   "source": [
    "T = 10000\n",
    "\n",
    "# Setting loss parameters\n",
    "frac = 0.1\n",
    "mult = 5\n",
    "\n",
    "logKs = range(2,26)\n",
    "times = np.zeros((len(logKs), 2))"
   ]
  },
  {
   "cell_type": "code",
   "execution_count": 23,
   "metadata": {
    "colab": {
     "base_uri": "https://localhost:8080/"
    },
    "id": "7dlBUXSr4EZ4",
    "outputId": "85f0217b-c3ef-4649-ac7a-22b85849ac66"
   },
   "outputs": [
    {
     "name": "stdout",
     "output_type": "stream",
     "text": [
      " 100%\n",
      " 100%"
     ]
    }
   ],
   "source": [
    "# Setting up the self balancing binary search tree\n",
    "sl = SortedList()\n",
    "\n",
    "# Running mod_EXP3\n",
    "for j in range(len(logKs)):\n",
    "    logK = logKs[j]\n",
    "    losstype = changingCliff(logK, mult, T)\n",
    "    \n",
    "    # Monitoring progress\n",
    "    print(\"\\r\", str(int(100*float(j+1)/len(logKs)))+\"%\", end=\"\")\n",
    "    \n",
    "    η = sqrt(2*logK/float(T*(1 << logK)))\n",
    "    \n",
    "    # Initializing the binary search tree\n",
    "    sl.clear()\n",
    "    sl.update([(0,i) for i in range(1 << logK)])\n",
    "    \n",
    "    start = time()\n",
    "    for t in range(T):\n",
    "        losstype.t = t\n",
    "        _ = mod_EXP3(sl, η, losstype)\n",
    "    times[j,0] = time()-start\n",
    "    \n",
    "print()\n",
    "\n",
    "# Running EXP3, note we decrease T and extrapolate because otherwise takes forever\n",
    "T = 100\n",
    "for j in range(len(logKs)):\n",
    "    # Monitoring progress\n",
    "    print(\"\\r\", str(int(100*float(j+1)/len(logKs)))+\"%\", end=\"\")\n",
    "    \n",
    "    logK = logKs[j]\n",
    "    losstype = changingCliff(logK, mult, T)\n",
    "    \n",
    "    η = sqrt(2*logK/float(T*(1 << logK)))\n",
    "    \n",
    "    # For too many arms skip simulation\n",
    "    if logK > 20:\n",
    "        times[j, 1] = np.NaN\n",
    "        continue\n",
    "        \n",
    "    # Setup for EXP3\n",
    "    L = [0.0]*(1 << logK)\n",
    "    p = [1/float(1 << logK)]*(1 << logK)\n",
    "    s = float(1 << logK) \n",
    "                 \n",
    "    start = time()\n",
    "    for t in range(T):\n",
    "        losstype.t = t\n",
    "        _, s = EXP3(L, p, s, η, logK, losstype)\n",
    "    times[j,1] = 100*(time()-start)"
   ]
  },
  {
   "cell_type": "code",
   "execution_count": 24,
   "metadata": {
    "colab": {
     "base_uri": "https://localhost:8080/",
     "height": 982
    },
    "id": "aEqWXf3L4OPX",
    "outputId": "a7e2129b-8c9c-4250-df49-444f0ecad99a"
   },
   "outputs": [
    {
     "data": {
      "text/plain": [
       "(0, 10)"
      ]
     },
     "execution_count": 24,
     "metadata": {},
     "output_type": "execute_result"
    },
    {
     "data": {
      "image/png": "[encoded data removed]",
      "text/plain": [
       "<Figure size 432x288 with 1 Axes>"
      ]
     },
     "metadata": {
      "needs_background": "light"
     },
     "output_type": "display_data"
    }
   ],
   "source": [
    "# matplotlib.rcParams['text.usetex'] = True\n",
    "plt.plot(logKs, times, linewidth=6)\n",
    "# plt.title(r\"$\\textrm{Time to complete 10000 iterations}$\", size=26)\n",
    "# plt.legend([r'$\\textrm{Modified}$', r'$\\textrm{EXP3}$'], fontsize=22)\n",
    "plt.xlabel(\"Number of arms\", size=26)\n",
    "plt.ylabel('Seconds', size=26)\n",
    "plt.yticks(ticks=[1,5, 10], size=26)\n",
    "plt.xticks(ticks=[5, 10, 15, 20, 25], labels=[r\"$2^5$\", r\"$2^{10}$\", r\"$2^{15}$\", r\"$2^{20}$\", r\"$2^{25}$\"], size=26)\n",
    "plt.grid(b=True)\n",
    "plt.ylim(0,10)"
   ]
  },
  {
   "cell_type": "markdown",
   "metadata": {
    "id": "WyrzmeE_4-oH"
   },
   "source": [
    "# Comparing regret"
   ]
  },
  {
   "cell_type": "code",
   "execution_count": 32,
   "metadata": {
    "id": "soqNy6KX5DlQ"
   },
   "outputs": [],
   "source": [
    "logK = 8\n",
    "T = 10000\n",
    "# losstype = changingCliff(logK, 5, T)\n",
    "losstype = stochastic(logK)\n",
    "# losstype = cliff(logK, 0.1)"
   ]
  },
  {
   "cell_type": "code",
   "execution_count": 33,
   "metadata": {
    "id": "KafujOQZ5EeW"
   },
   "outputs": [],
   "source": [
    "# Setup for modified EXP3\n",
    "sl.clear()\n",
    "sl.update([(0,i) for i in range(1 << logK)])\n",
    "\n",
    "# Setup for EXP3\n",
    "L = [0.0]*(1 << logK)\n",
    "p = [1/float(1 << logK)]*(1 << logK)\n",
    "s = float(1 << logK)\n",
    "\n",
    "times = np.zeros((T,2))\n",
    "regret = np.zeros((T, 2))\n",
    "\n",
    "η = sqrt(2*logK/float(T*(1 << logK)))\n",
    "for t in range(T):\n",
    "    losstype.t = t\n",
    "    \n",
    "    start = time()\n",
    "    tmp = mod_EXP3(sl, η, losstype)\n",
    "    regret[t,0] = tmp + (0 if t==0 else regret[t-1,0])\n",
    "    times[t,0] = time()-start + (0 if t==0 else times[t-1,0])\n",
    "\n",
    "    if t%1000 == 0: s=np.sum([exp(-η*LL) for LL in L])\n",
    "    start = time()\n",
    "    regret[t,1], s = EXP3(L, p, s, η, logK, losstype)\n",
    "    regret[t,1] += (0 if t==0 else regret[t-1,1])\n",
    "    times[t,1] = time() - start + (0 if t==0 else times[t-1,1])"
   ]
  },
  {
   "cell_type": "code",
   "execution_count": 35,
   "metadata": {
    "colab": {
     "base_uri": "https://localhost:8080/",
     "height": 402
    },
    "id": "sUGfPBjZ5HMu",
    "outputId": "e9c77eea-28d2-4f0c-d6da-36ec073e77c6"
   },
   "outputs": [
    {
     "data": {
      "image/png": "[encoded data removed]",
      "text/plain": [
       "<Figure size 432x288 with 1 Axes>"
      ]
     },
     "metadata": {
      "needs_background": "light"
     },
     "output_type": "display_data"
    }
   ],
   "source": [
    "# matplotlib.rcParams['text.usetex'] = True\n",
    "plt.plot(regret, linewidth=4)\n",
    "plt.title(\"Evolution of regret\", size=26)\n",
    "plt.legend(['Modified', 'EXP3'], fontsize=22)\n",
    "plt.xlabel(\"Iteration\", size=26)\n",
    "plt.ylabel('Regret', size=26)\n",
    "# plt.yticks(ticks=[0,20000,40000], labels=[\"0\", \"20k\", \"40k\"], size=26)\n",
    "# plt.xticks(ticks=[0,20000,40000,60000, 80000,100000], labels=[\"0\", \"20k\", \"40k\", \"60k\", \"80k\", \"100k\"], size=26)\n",
    "plt.grid(b=True)\n",
    "# plt.ylim(0,10)\n",
    "plt.show()"
   ]
  },
  {
   "cell_type": "code",
   "execution_count": null,
   "metadata": {},
   "outputs": [],
   "source": [
    "plt.plot(times)"
   ]
  }
 ],
 "metadata": {
  "@webio": {
   "lastCommId": null,
   "lastKernelId": null
  },
  "colab": {
   "collapsed_sections": [],
   "name": "Bandits.ipynb",
   "provenance": []
  },
  "kernelspec": {
   "display_name": "Python 3",
   "language": "python",
   "name": "python3"
  },
  "language_info": {
   "codemirror_mode": {
    "name": "ipython",
    "version": 3
   },
   "file_extension": ".py",
   "mimetype": "text/x-python",
   "name": "python",
   "nbconvert_exporter": "python",
   "pygments_lexer": "ipython3",
   "version": "3.7.6"
  }
 },
 "nbformat": 4,
 "nbformat_minor": 1
}
