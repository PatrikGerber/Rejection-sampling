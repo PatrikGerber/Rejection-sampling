{
 "cells": [
  {
   "cell_type": "code",
   "execution_count": 1,
   "metadata": {
    "id": "dgtMCJDQyWlN"
   },
   "outputs": [],
   "source": [
    "from sortedcontainers import SortedList\n",
    "from math import log, exp, sqrt\n",
    "from random import random, randrange\n",
    "import numpy as np\n",
    "import matplotlib.pyplot as plt\n",
    "import matplotlib\n",
    "from time import time"
   ]
  },
  {
   "cell_type": "code",
   "execution_count": 2,
   "metadata": {
    "id": "XZ81TxKsye-C"
   },
   "outputs": [],
   "source": [
    "# NOTE 1 << i = 2^i\n",
    "\n",
    "# q[i] = p[2^i - 1]\n",
    "def build_envelope(sl, q, eta):\n",
    "    logK = len(q)\n",
    "    for i in range(logK):\n",
    "        q[i] = exp(-eta*sl[(1 << i)-1][0])  \n",
    "\n",
    "# returns an arm using rejection sampling\n",
    "# example to keep in mind:\n",
    "# \\tilde{p} = (8, 7, 6, 5, 4, 3, 2, 1)\n",
    "# \\tilde{q} = (8, 8, 7, 7, 5, 5, 5, 5)\n",
    "# bucket    = (0____ 1____ 2_________)\n",
    "# q         = (8,    7,    5) \n",
    "\n",
    "\n",
    "# Samples from exp(-eta*L) using the proposal q. Returns (L[arm], arm) pair\n",
    "def sample(q, sl, eta):\n",
    "    logK = len(q)\n",
    "    \n",
    "    # Compute normalizing constant of q\n",
    "    Z = 2.0*q[0]\n",
    "    for i in range(1, logK):\n",
    "        Z += q[i]*(1 << i)\n",
    "        \n",
    "    # Rejection while loop\n",
    "    counter = 0\n",
    "    while True:\n",
    "        counter += 1\n",
    "        # First we draw a random bucket\n",
    "        u = random()\n",
    "        bucket = -1\n",
    "        cdf = 2*q[0]\n",
    "        if u < cdf/Z:\n",
    "            bucket = 0\n",
    "        if bucket < 0:\n",
    "            for i in range(1, logK):\n",
    "                cdf += q[i]*(1 << i)\n",
    "                if u < cdf/Z:\n",
    "                    bucket = i\n",
    "                    break\n",
    "        if bucket < 0:\n",
    "            print(\"Error: bucket not assigned\")\n",
    "            return \n",
    "\n",
    "        # We draw the arm uniformly within the bucket. Draw = k means we drew the k-th largest arm\n",
    "        if bucket == 0:\n",
    "            draw = randrange(2)\n",
    "        else:\n",
    "            draw = (1 << bucket) + randrange(1 << bucket)\n",
    "            \n",
    "        # Rejection step\n",
    "        if random() < exp(-eta*sl[draw][0])/q[bucket]:\n",
    "#             print(counter)\n",
    "            return sl[draw]\n",
    "        \n",
    "        \n",
    "# Returns (x,q(x)) where x is a sample from q and q(x) is the (normalized) density of point x\n",
    "def sample_envelope(q):\n",
    "    logK = len(q)\n",
    "    \n",
    "    # Compute normalizing constant of q\n",
    "    Z = 2.0*q[0]\n",
    "    for i in range(1, logK):\n",
    "        Z += q[i]*(1 << i)\n",
    "        \n",
    "    # First we draw a random bucket\n",
    "    u = random()\n",
    "    bucket = -1\n",
    "    cdf = 2*q[0]\n",
    "    if u < cdf/Z:\n",
    "        bucket = 0\n",
    "    if bucket < 0:\n",
    "        for i in range(1, logK):\n",
    "            cdf += q[i]*(1 << i)\n",
    "            if u < cdf/Z:\n",
    "                bucket = i\n",
    "                break\n",
    "    if bucket < 0:\n",
    "        print(\"Error: bucket not assigned\")\n",
    "        return \n",
    "\n",
    "    # We draw the arm uniformly within the bucket. Draw = k means we drew the k-th largest arm\n",
    "    if bucket == 0:\n",
    "        draw = randrange(2)\n",
    "    else:\n",
    "        draw = (1 << bucket) + randrange(1 << bucket)\n",
    "    return draw, q[bucket]/Z"
   ]
  },
  {
   "cell_type": "code",
   "execution_count": 4,
   "metadata": {
    "id": "WsHltC063YAy"
   },
   "outputs": [],
   "source": [
    "# Performs one step of the modified EXP3 algorithm and returns loss incurred\n",
    "def mod_EXP3(sl, q, eta, losstype, frac=None, mult=None, t=None, T=None):\n",
    "    logK = len(q)\n",
    "    \n",
    "    # BUILDING ENVELOPE\n",
    "    build_envelope(sl, q, eta)\n",
    "    \n",
    "    # SAMPLING ARM\n",
    "    L, arm = sample(q, sl, eta)\n",
    "    \n",
    "    # OBSERVING LOSS\n",
    "    if losstype == 'cliff':\n",
    "        loss = cliff_loss(arm, logK, frac)\n",
    "    elif losstype == 'changing-cliff':\n",
    "        loss = changing_loss(arm, logK, mult, t, T)\n",
    "    elif losstype == 'stochastic':\n",
    "        loss = stochastic(arm, logK)\n",
    "    else:\n",
    "        print(\"Loss missspecified\")\n",
    "    \n",
    "    # J is not the true index, but indexed according to the sorted order\n",
    "    J, q_prob = sample_envelope(q)\n",
    "    dL = loss*exp(-eta*sl[J][0])/(exp(-eta*L)*q_prob)\n",
    "    \n",
    "    # UPDATING SORTED ARRAY\n",
    "    sl.remove((L, arm))\n",
    "    sl.add((L+dL, arm))\n",
    "    return loss\n",
    "\n",
    "# Performs one step of EXP3 and return (l,s) where l is the loss incurred and s = sum(L)\n",
    "def EXP3(L, p, s, eta, logK, losstype, frac=None, mult=None, t=None, T=None):\n",
    "    arm = np.random.choice(range(1 << logK), 1, p = p)[0]\n",
    "    if losstype == 'cliff':\n",
    "        loss = cliff_loss(arm, logK, frac)\n",
    "    elif losstype == 'changing-cliff':\n",
    "        loss = changing_loss(arm, logK, mult, t, T)\n",
    "    elif losstype == 'stochastic':\n",
    "        loss = stochastic(arm, logK)\n",
    "    else:\n",
    "        print(\"Loss missspecified\")\n",
    "    \n",
    "    s -= exp(-eta*L[arm])\n",
    "    L[arm] += loss/p[arm]\n",
    "    s += exp(-eta*L[arm])\n",
    "    for i in range(1 << logK):\n",
    "        p[i] = exp(-eta*L[i])/s\n",
    "    return loss, s"
   ]
  },
  {
   "cell_type": "code",
   "execution_count": 5,
   "metadata": {
    "id": "XTfBXjoUUCW0"
   },
   "outputs": [],
   "source": [
    "# Best arm is always 0\n",
    "def cliff_loss(arm, logK, frac):\n",
    "    return 0 if arm < (1 << logK)*frac else 1\n",
    "\n",
    "# Best arm is 1/mult on average\n",
    "def changing_loss(arm, logK, mult, t, T):\n",
    "    bucket = int(t*mult/float(T))\n",
    "    if bucket*(1 << logK)/float(mult) <= arm <= (bucket + 1)*(1 << logK)/float(mult):\n",
    "        return 0\n",
    "    else: return 1\n",
    "\n",
    "# Best arm is always 0\n",
    "def stochastic(arm, logK):\n",
    "#     return random()\n",
    "    return min(1,max(0,arm/float(1<<logK) - 0.3*random()))"
   ]
  },
  {
   "cell_type": "code",
   "execution_count": 6,
   "metadata": {},
   "outputs": [],
   "source": [
    "# Setting up the self balancing binary search tree\n",
    "sl = SortedList()"
   ]
  },
  {
   "cell_type": "markdown",
   "metadata": {
    "id": "AkHO4Df-39tL"
   },
   "source": [
    "# Comparing iteration speed"
   ]
  },
  {
   "cell_type": "code",
   "execution_count": 14,
   "metadata": {
    "id": "N82IYyD14DID"
   },
   "outputs": [],
   "source": [
    "T = 10000\n",
    "losses = [\"cliff\", \"changing-cliff\", \"stochastic\"]\n",
    "# Parameters of the losstypes\n",
    "frac = 0.1\n",
    "mult = 5\n",
    "losstype = losses[2]\n",
    "\n",
    "logKs = range(2,26)\n",
    "times = np.zeros((len(logKs), 2))"
   ]
  },
  {
   "cell_type": "code",
   "execution_count": 16,
   "metadata": {
    "colab": {
     "base_uri": "https://localhost:8080/"
    },
    "id": "7dlBUXSr4EZ4",
    "outputId": "85f0217b-c3ef-4649-ac7a-22b85849ac66"
   },
   "outputs": [
    {
     "name": "stdout",
     "output_type": "stream",
     "text": [
      "4%\n",
      "8%\n",
      "12%\n",
      "16%\n",
      "20%\n",
      "25%\n",
      "29%\n",
      "33%\n",
      "37%\n",
      "41%\n",
      "45%\n",
      "50%\n",
      "54%\n",
      "58%\n",
      "62%\n",
      "66%\n",
      "70%\n",
      "75%\n",
      "79%\n",
      "83%\n",
      "87%\n",
      "91%\n",
      "95%\n",
      "100%\n",
      "4%\n",
      "8%\n",
      "12%\n",
      "16%\n",
      "20%\n",
      "25%\n",
      "29%\n",
      "33%\n",
      "37%\n",
      "41%\n",
      "45%\n",
      "50%\n",
      "54%\n",
      "58%\n",
      "62%\n",
      "66%\n",
      "70%\n",
      "75%\n",
      "79%\n",
      "83%\n",
      "87%\n",
      "91%\n",
      "95%\n",
      "100%\n"
     ]
    }
   ],
   "source": [
    "# Theoretical stepsize for EXP3 on this time horizon, same eta used for both algorithms\n",
    "eta = sqrt(2*logK/float(T*(1 << logK)))\n",
    "\n",
    "# Running mod_EXP3\n",
    "for j in range(len(logKs)):\n",
    "    print(str(int(100*float(j+1)/len(logKs)))+\"%\")\n",
    "    logK = logKs[j]\n",
    "    \n",
    "    # Clearing the datastructure\n",
    "    sl.clear()\n",
    "    sl.update([(0,i) for i in range(1 << logK)])\n",
    "    q = [None]*logK\n",
    "    \n",
    "    start = time()\n",
    "    for t in range(T):\n",
    "        _ = mod_EXP3(sl, q, eta, losstype, frac=frac,  mult=mult, t=t, T=T)\n",
    "    times[j,0] = time()-start\n",
    "    \n",
    "# Running EXP3, note we decrease T and extrapolate because otherwise takes forever\n",
    "T = 100\n",
    "for j in range(len(logKs)):\n",
    "    print(str(int(100*float(j+1)/len(logKs)))+\"%\")\n",
    "    logK = logKs[j]\n",
    "    \n",
    "    if logK > 20:\n",
    "        times[j, 1] = np.NaN\n",
    "        continue\n",
    "    # Setup for EXP3\n",
    "    L = [0.0]*(1 << logK)\n",
    "    p = [1/float(1 << logK)]*(1 << logK)\n",
    "    s = float(1 << logK) \n",
    "                 \n",
    "    start = time()\n",
    "    for t in range(T):\n",
    "        _, s = EXP3(L, p, s, eta, logK, losstype, frac=frac,  mult=mult, t=t, T=T)\n",
    "    times[j,1] = 100*(time()-start)"
   ]
  },
  {
   "cell_type": "code",
   "execution_count": 17,
   "metadata": {
    "colab": {
     "base_uri": "https://localhost:8080/",
     "height": 982
    },
    "id": "aEqWXf3L4OPX",
    "outputId": "a7e2129b-8c9c-4250-df49-444f0ecad99a"
   },
   "outputs": [
    {
     "data": {
      "text/plain": [
       "(0.0, 10.0)"
      ]
     },
     "execution_count": 17,
     "metadata": {},
     "output_type": "execute_result"
    },
    {
     "data": {
      "image/png": "[encoded data removed]",
      "text/plain": [
       "<Figure size 432x288 with 1 Axes>"
      ]
     },
     "metadata": {
      "needs_background": "light"
     },
     "output_type": "display_data"
    }
   ],
   "source": [
    "matplotlib.rcParams['text.usetex'] = True\n",
    "plt.plot(logKs, times, linewidth=6)\n",
    "plt.title(\"Time to complete {} iterations\".format(T*100), size=26)\n",
    "plt.legend(['Modified', 'EXP3'], fontsize=22)\n",
    "plt.xlabel(\"Number of arms\", size=26)\n",
    "plt.ylabel('Seconds', size=26)\n",
    "plt.yticks(ticks=[1,5, 10], size=26)\n",
    "plt.xticks(ticks=[5, 10, 15, 20, 25], labels=[r\"$2^5$\", r\"$2^{10}$\", r\"$2^{15}$\", r\"$2^{20}$\", r\"$2^{25}$\"], size=26)\n",
    "plt.grid(b=True)\n",
    "plt.ylim(0,10)"
   ]
  },
  {
   "cell_type": "markdown",
   "metadata": {
    "id": "WyrzmeE_4-oH"
   },
   "source": [
    "# Comparing regret"
   ]
  },
  {
   "cell_type": "code",
   "execution_count": 18,
   "metadata": {
    "id": "soqNy6KX5DlQ"
   },
   "outputs": [],
   "source": [
    "logK = 8\n",
    "T = 100000\n",
    "frac = 0.1\n",
    "mult=5\n",
    "losstype = 'changing-cliff'"
   ]
  },
  {
   "cell_type": "code",
   "execution_count": 19,
   "metadata": {
    "id": "KafujOQZ5EeW"
   },
   "outputs": [],
   "source": [
    "# Setup for modified EXP3\n",
    "sl.clear()\n",
    "sl.update([(0,i) for i in range(1 << logK)])\n",
    "q = [None]*logK\n",
    "\n",
    "# Setup for EXP3\n",
    "L = [0.0]*(1 << logK)\n",
    "p = [1/float(1 << logK)]*(1 << logK)\n",
    "s = float(1 << logK)\n",
    "\n",
    "times = np.zeros((T,2))\n",
    "regret = np.zeros((T, 2))\n",
    "\n",
    "eta = sqrt(2*logK/float(T*(1 << logK)))\n",
    "for t in range(T):\n",
    "    start = time()\n",
    "    tmp = mod_EXP3(sl, q, eta, losstype, frac=frac,  mult=mult, t=t, T=T)\n",
    "    regret[t,0] = tmp + (0 if t==0 else regret[t-1,0])\n",
    "    times[t,0] = time()-start + (0 if t==0 else times[t-1,0])\n",
    "\n",
    "    if t%1000 == 0: s=np.sum([exp(-eta*LL) for LL in L])\n",
    "    start = time()\n",
    "    regret[t,1], s = EXP3(L, p, s, eta, logK, losstype, frac=frac,  mult=mult, t=t, T=T)\n",
    "    regret[t,1] += (0 if t==0 else regret[t-1,1])\n",
    "    times[t,1] = time() - start + (0 if t==0 else times[t-1,1])"
   ]
  },
  {
   "cell_type": "code",
   "execution_count": 24,
   "metadata": {
    "colab": {
     "base_uri": "https://localhost:8080/",
     "height": 402
    },
    "id": "sUGfPBjZ5HMu",
    "outputId": "e9c77eea-28d2-4f0c-d6da-36ec073e77c6"
   },
   "outputs": [
    {
     "data": {
      "image/png": "[encoded data removed]",
      "text/plain": [
       "<Figure size 432x288 with 1 Axes>"
      ]
     },
     "metadata": {
      "needs_background": "light"
     },
     "output_type": "display_data"
    }
   ],
   "source": [
    "matplotlib.rcParams['text.usetex'] = True\n",
    "plt.plot(regret, linewidth=4)\n",
    "plt.title(\"Evolution of regret\", size=26)\n",
    "plt.legend(['Modified', 'EXP3'], fontsize=22)\n",
    "plt.xlabel(\"Iteration\", size=26)\n",
    "plt.ylabel('Regret', size=26)\n",
    "plt.yticks(ticks=[0,20000,40000], labels=[\"0\", \"20k\", \"40k\"], size=26)\n",
    "plt.xticks(ticks=[0,20000,40000,60000, 80000,100000], labels=[\"0\", \"20k\", \"40k\", \"60k\", \"80k\", \"100k\"], size=26)\n",
    "plt.grid(b=True)\n",
    "# plt.ylim(0,10)\n",
    "plt.show()"
   ]
  },
  {
   "cell_type": "code",
   "execution_count": 25,
   "metadata": {},
   "outputs": [
    {
     "data": {
      "text/plain": [
       "[<matplotlib.lines.Line2D at 0x7f33c56e7e10>,\n",
       " <matplotlib.lines.Line2D at 0x7f33c56e7e80>]"
      ]
     },
     "execution_count": 25,
     "metadata": {},
     "output_type": "execute_result"
    },
    {
     "data": {
      "image/png": "[encoded data removed]",
      "text/plain": [
       "<Figure size 432x288 with 1 Axes>"
      ]
     },
     "metadata": {
      "needs_background": "light"
     },
     "output_type": "display_data"
    }
   ],
   "source": [
    "plt.plot(times)"
   ]
  }
 ],
 "metadata": {
  "colab": {
   "collapsed_sections": [],
   "name": "Bandits.ipynb",
   "provenance": []
  },
  "kernelspec": {
   "display_name": "Python 3",
   "language": "python",
   "name": "python3"
  },
  "language_info": {
   "codemirror_mode": {
    "name": "ipython",
    "version": 3
   },
   "file_extension": ".py",
   "mimetype": "text/x-python",
   "name": "python",
   "nbconvert_exporter": "python",
   "pygments_lexer": "ipython3",
   "version": "3.6.9"
  }
 },
 "nbformat": 4,
 "nbformat_minor": 1
}
