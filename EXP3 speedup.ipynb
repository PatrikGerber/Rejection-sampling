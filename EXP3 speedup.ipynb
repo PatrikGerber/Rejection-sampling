{
 "cells": [
  {
   "cell_type": "code",
   "execution_count": 236,
   "metadata": {},
   "outputs": [],
   "source": [
    "from sortedcontainers import SortedList\n",
    "from math import log, exp, sqrt\n",
    "from random import random, randrange\n",
    "import numpy as np\n",
    "import matplotlib.pyplot as plt\n",
    "from time import time"
   ]
  },
  {
   "cell_type": "code",
   "execution_count": 170,
   "metadata": {},
   "outputs": [],
   "source": [
    "sl = SortedList()"
   ]
  },
  {
   "cell_type": "code",
   "execution_count": 360,
   "metadata": {},
   "outputs": [],
   "source": [
    "# NOTE 1 << i = 2^i\n",
    "\n",
    "# q[i] = p[2^i - 1]\n",
    "def build_envelope(sl, q, eta):\n",
    "    logK = len(q)\n",
    "    for i in range(logK):\n",
    "        q[i] = exp(-eta*sl[(1 << i)-1][0])  \n",
    "\n",
    "# returns an arm using rejection sampling\n",
    "# example to keep in mind:\n",
    "# \\tilde{p} = (8, 7, 6, 5, 4, 3, 2, 1)\n",
    "# \\tilde{q} = (8, 8, 7, 7, 5, 5, 5, 5)\n",
    "# bucket    = (0____ 1____ 2_________)\n",
    "# q = (8, 7, 5) \n",
    "def sample(q, sl, eta):\n",
    "    logK = len(q)\n",
    "    \n",
    "    # Compute normalizing constant of q\n",
    "    Z = 2.0*q[0]\n",
    "    for i in range(1, logK):\n",
    "        Z += q[i]*(1 << i)\n",
    "        \n",
    "    # Rejection while loop\n",
    "    while True:\n",
    "        # First we draw a random bucket\n",
    "        u = random()\n",
    "        bucket = None\n",
    "        cdf = 2*q[0]\n",
    "        if u < cdf/Z:\n",
    "            bucket = 0\n",
    "        if not bucket:\n",
    "            for i in range(1, logK):\n",
    "                cdf += q[i]*(1 << i)\n",
    "                if u < cdf/Z:\n",
    "                    bucket = i\n",
    "                    break\n",
    "        if not bucket:\n",
    "            print(\"Error: bucket not assigned\")\n",
    "            return \n",
    "\n",
    "        # We draw the arm uniformly within the bucket. Draw = k means we drew the k-th largest arm\n",
    "        if bucket == 0:\n",
    "            draw = randrange(2)\n",
    "        else:\n",
    "            draw = (1 << bucket) + randrange(1 << bucket)\n",
    "            \n",
    "        # Rejection step\n",
    "        if random() < exp(-eta*sl[draw][0])/(2.0*q[bucket]):\n",
    "            return sl[draw]\n",
    "        \n",
    "def sample_envelope(q):\n",
    "    logK = len(q)\n",
    "    \n",
    "    # Compute normalizing constant of q\n",
    "    Z = 2.0*q[0]\n",
    "    for i in range(1, logK):\n",
    "        Z += q[i]*(1 << i)\n",
    "        \n",
    "    # First we draw a random bucket\n",
    "    u = random()\n",
    "    bucket = None\n",
    "    cdf = 2*q[0]\n",
    "    if u < cdf/Z:\n",
    "        bucket = 0\n",
    "    if not bucket:\n",
    "        for i in range(1, logK):\n",
    "            cdf += q[i]*(1 << i)\n",
    "            if u < cdf/Z:\n",
    "                bucket = i\n",
    "                break\n",
    "    if not bucket:\n",
    "        print(\"Error: bucket not assigned\")\n",
    "        return \n",
    "\n",
    "    # We draw the arm uniformly within the bucket. Draw = k means we drew the k-th largest arm\n",
    "    if bucket == 0:\n",
    "        draw = randrange(2)\n",
    "    else:\n",
    "        draw = (1 << bucket) + randrange(1 << bucket)\n",
    "    return draw, q[bucket]/Z"
   ]
  },
  {
   "cell_type": "markdown",
   "metadata": {},
   "source": [
    "# Comparing algos\n",
    "### Details: There are K arms. A fixed number frac*K of the arms return a uniform random loss and the remaining (1-frac)*K arms return 0 loss. "
   ]
  },
  {
   "cell_type": "code",
   "execution_count": 365,
   "metadata": {},
   "outputs": [],
   "source": [
    "logK = 10\n",
    "T = 50000\n",
    "frac = 0.1\n",
    "regret = np.zeros((T, 2))"
   ]
  },
  {
   "cell_type": "markdown",
   "metadata": {},
   "source": [
    "## Modified EXP3"
   ]
  },
  {
   "cell_type": "code",
   "execution_count": 366,
   "metadata": {},
   "outputs": [
    {
     "name": "stdout",
     "output_type": "stream",
     "text": [
      "Average time per iteration is 1.80731201172e-05\n",
      "Total time was 0.903656005859\n"
     ]
    }
   ],
   "source": [
    "sl.clear()\n",
    "sl.update([(0,i) for i in range(1 << logK)])\n",
    "q = [None]*logK\n",
    "\n",
    "eta = sqrt(logK/(2.0*T*(1 << logK)))\n",
    "start = time()\n",
    "for t in range(T):\n",
    "    build_envelope(sl, q, eta)\n",
    "    L, arm = sample(q, sl, eta)\n",
    "    \n",
    "    # Make arms 0, 1, ..., frac*K have unuiform loss, rest is 0\n",
    "    loss = random() if arm < (1 << logK)*frac else 0\n",
    "    regret[t][0] = (0 if t==0 else regret[t-1][0]) + loss\n",
    "    \n",
    "    # J is not the true index, but indexed according to the sorted order\n",
    "    J, q_prob = sample_envelope(q)\n",
    "    dL = loss*exp(-eta*sl[J][0])/(exp(-eta*L)*q_prob)\n",
    "    sl.remove((L, arm))\n",
    "    sl.add((L+dL, arm))\n",
    "avg = (time() - start)/T\n",
    "print(\"Average time per iteration is {}\".format(avg))\n",
    "print(\"Total time was {}\".format(avg*T))"
   ]
  },
  {
   "cell_type": "markdown",
   "metadata": {},
   "source": [
    "## EXP3"
   ]
  },
  {
   "cell_type": "code",
   "execution_count": 367,
   "metadata": {},
   "outputs": [
    {
     "name": "stdout",
     "output_type": "stream",
     "text": [
      "Average time per iteration is 0.000220568118095\n",
      "Total time was 11.0284059048\n"
     ]
    }
   ],
   "source": [
    "eta = sqrt(2*logK/float(T*(1 << logK)))\n",
    "regret_EXP = [0]*T\n",
    "L = [0]*(1 << logK)\n",
    "p = [1/float(1 << logK)]*(1 << logK)\n",
    "s = float(1 << logK)\n",
    "start = time()\n",
    "for t in range(T):\n",
    "    arm = np.random.choice(range(1 << logK), 1, p = p)[0]\n",
    "    loss = random() if arm < (1 << logK)*frac else 0\n",
    "    regret[t][1] = (0 if t==0 else regret[t-1][1]) + loss\n",
    "    s -= exp(-eta*L[arm])\n",
    "    L[arm] += loss/p[arm]\n",
    "    s += exp(-eta*L[arm])\n",
    "#     s = np.sum(map(lambda x: exp(-eta*x), L))\n",
    "    for i in range(1 << logK):\n",
    "        p[i] = exp(-eta*L[i])/s\n",
    "avg = (time() - start)/T\n",
    "print(\"Average time per iteration is {}\".format(avg))\n",
    "print(\"Total time was {}\".format(avg*T))"
   ]
  },
  {
   "cell_type": "code",
   "execution_count": 368,
   "metadata": {},
   "outputs": [
    {
     "data": {
      "text/plain": [
       "<matplotlib.legend.Legend at 0x7f38d13c4cd0>"
      ]
     },
     "execution_count": 368,
     "metadata": {},
     "output_type": "execute_result"
    },
    {
     "data": {
      "image/png": "[encoded data removed]",
      "text/plain": [
       "<Figure size 432x288 with 1 Axes>"
      ]
     },
     "metadata": {
      "needs_background": "light"
     },
     "output_type": "display_data"
    }
   ],
   "source": [
    "plt.plot(regret)\n",
    "plt.legend(['Modified', 'Vanilla'])"
   ]
  }
 ],
 "metadata": {
  "kernelspec": {
   "display_name": "Python 2",
   "language": "python",
   "name": "python2"
  },
  "language_info": {
   "codemirror_mode": {
    "name": "ipython",
    "version": 2
   },
   "file_extension": ".py",
   "mimetype": "text/x-python",
   "name": "python",
   "nbconvert_exporter": "python",
   "pygments_lexer": "ipython2",
   "version": "2.7.17"
  }
 },
 "nbformat": 4,
 "nbformat_minor": 2
}
